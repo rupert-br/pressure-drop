{
 "cells": [
  {
   "cell_type": "markdown",
   "metadata": {},
   "source": [
    "## Pressure Drop calculation"
   ]
  },
  {
   "cell_type": "markdown",
   "metadata": {},
   "source": [
    "### Length SI-unit converter"
   ]
  },
  {
   "cell_type": "code",
   "execution_count": 39,
   "metadata": {},
   "outputs": [],
   "source": [
    "def unit_converter_length(value, unit):\n",
    "    if unit == \"m\":\n",
    "        return value\n",
    "    if unit == \"mm\":\n",
    "        return value / 1000\n",
    "    if unit == \"cm\":\n",
    "        return value / 100\n",
    "    if unit == \"inch\":\n",
    "        return value / 39.37"
   ]
  },
  {
   "cell_type": "code",
   "execution_count": 43,
   "metadata": {},
   "outputs": [
    {
     "name": "stdout",
     "output_type": "stream",
     "text": [
      "1\n"
     ]
    }
   ],
   "source": [
    "print(unit_converter_length(1, \"m\"))"
   ]
  },
  {
   "cell_type": "markdown",
   "metadata": {},
   "source": [
    "### Flow SI-unit converter"
   ]
  },
  {
   "cell_type": "code",
   "execution_count": 32,
   "metadata": {},
   "outputs": [],
   "source": [
    "def unit_converter_flow(value, unit):\n",
    "    if unit == \"m3/s\":\n",
    "        return value\n",
    "    if unit == \"m3/h\":\n",
    "        value = value / 60 / 60 # value * (60 s / 1 min) * (60 min / 1 h) \n",
    "        return value\n",
    "    if unit == \"L/min\":\n",
    "        value = value * (1/1000) / 60 # value * (1 m3 / 1000 L) * (60 s / 1 min)\n",
    "        return value\n",
    "    if unit == \"L/s\":\n",
    "        value = value * (1/1000) # value * (1 m3 / 1000 L)\n",
    "        return value"
   ]
  },
  {
   "cell_type": "code",
   "execution_count": 44,
   "metadata": {},
   "outputs": [
    {
     "name": "stdout",
     "output_type": "stream",
     "text": [
      "1\n"
     ]
    }
   ],
   "source": [
    "print(unit_converter_flow(1, \"m3/s\"))"
   ]
  },
  {
   "cell_type": "markdown",
   "metadata": {},
   "source": [
    "### Flow velocity calculation"
   ]
  },
  {
   "cell_type": "code",
   "execution_count": 70,
   "metadata": {},
   "outputs": [],
   "source": [
    "import numpy as np\n",
    "\n",
    "flowrate_unit = \"m3/s\"\n",
    "flowrate = 0.01\n",
    "\n",
    "inner_diameter_unit = \"mm\"\n",
    "inner_diameter_pipe = 100\n",
    "\n",
    "area = ((unit_converter_length(inner_diameter_pipe, inner_diameter_unit))**2) * np.pi/4\n",
    "\n",
    "flow_velocity = unit_converter_flow(flowrate, flowrate_unit) / area"
   ]
  },
  {
   "cell_type": "markdown",
   "metadata": {},
   "source": [
    "### Fluid and materials properties"
   ]
  },
  {
   "cell_type": "code",
   "execution_count": 56,
   "metadata": {},
   "outputs": [],
   "source": [
    "pipe_friction_number = 0.1\n",
    "rho = 1000 #kg/m3\n",
    "rho_air = 1 #kg/m3"
   ]
  },
  {
   "cell_type": "markdown",
   "metadata": {},
   "source": [
    "### Pressure drop equation pipe friction\n",
    "\n",
    "$\\Delta p_{f} = \\lambda * \\frac{L}{D} * \\frac{\\rho}{2} * v^{2}$"
   ]
  },
  {
   "cell_type": "code",
   "execution_count": 77,
   "metadata": {},
   "outputs": [
    {
     "name": "stdout",
     "output_type": "stream",
     "text": [
      "8105.69469138702\n"
     ]
    }
   ],
   "source": [
    "pipe_length = 10\n",
    "pipe_length_unit = \"m\"\n",
    "\n",
    "def dp_friction(pipe_friction_number, length, length_unit, inner_diameter_pipe, inner_diameter_unit, density, velocity):\n",
    "    length = unit_converter_length(length, length_unit)\n",
    "    diameter = unit_converter_length(inner_diameter_pipe, inner_diameter_unit)\n",
    "    \n",
    "    dp_pipe_friction = pipe_friction_number * (length/diameter) * (density/2) * (velocity**2)\n",
    "    return dp_pipe_friction\n",
    "    \n",
    "print(dp_friction(pipe_friction_number, pipe_length, pipe_length_unit, inner_diameter_pipe, inner_diameter_unit, rho, flow_velocity))  "
   ]
  },
  {
   "cell_type": "markdown",
   "metadata": {},
   "source": [
    "### Pressure drop equation height difference\n",
    "\n",
    "$\\Delta p_{h} = (\\rho_{air}-\\rho{f})* (H_{1}-H_{2}) * g $"
   ]
  },
  {
   "cell_type": "code",
   "execution_count": 81,
   "metadata": {},
   "outputs": [
    {
     "name": "stdout",
     "output_type": "stream",
     "text": [
      "the dp is 29400.57 Pa\n",
      "the dp is 29400.57 Pa\n"
     ]
    }
   ],
   "source": [
    "heigth_max = 53 #m\n",
    "heigth_min = 50 #m\n",
    "\n",
    "def dp_height(rho_air, rho_fluid, heigth_min, heigth_max):\n",
    "    dp_height = (rho_air - rho_fluid)*(heigth_min - heigth_max)*9.81\n",
    "    return dp_height\n",
    "\n",
    "dp_height = dp_height(rho_air, rho, heigth_min, heigth_max)\n",
    "\n",
    "print(f'the dp is {dp_height} Pa')"
   ]
  },
  {
   "cell_type": "markdown",
   "metadata": {},
   "source": [
    "### Pressure drop equation fittings, direction changes, ...\n",
    "\n",
    "$\\Delta p_{\\zeta} = \\frac{1}{2} * \\zeta * \\rho * v^{2}$"
   ]
  },
  {
   "cell_type": "code",
   "execution_count": 84,
   "metadata": {},
   "outputs": [
    {
     "name": "stdout",
     "output_type": "stream",
     "text": [
      "the dp is 810.569469138702 Pa\n"
     ]
    }
   ],
   "source": [
    "zeta = 1\n",
    "\n",
    "def dp_fittings(zeta, density, velocity):\n",
    "    return 0.5 * zeta * density * velocity**2\n",
    "\n",
    "dp_fittings = dp_fittings(zeta, rho, flow_velocity)\n",
    "print(f'the dp is {dp_fittings} Pa')"
   ]
  },
  {
   "cell_type": "code",
   "execution_count": null,
   "metadata": {},
   "outputs": [],
   "source": []
  },
  {
   "cell_type": "code",
   "execution_count": null,
   "metadata": {},
   "outputs": [],
   "source": []
  }
 ],
 "metadata": {
  "kernelspec": {
   "display_name": "Python 3",
   "language": "python",
   "name": "python3"
  },
  "language_info": {
   "codemirror_mode": {
    "name": "ipython",
    "version": 3
   },
   "file_extension": ".py",
   "mimetype": "text/x-python",
   "name": "python",
   "nbconvert_exporter": "python",
   "pygments_lexer": "ipython3",
   "version": "3.7.4"
  }
 },
 "nbformat": 4,
 "nbformat_minor": 4
}
